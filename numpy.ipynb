{
 "cells": [
  {
   "cell_type": "code",
   "execution_count": 1,
   "id": "80065bd7-2dd0-418b-85e2-8c9abec690f1",
   "metadata": {},
   "outputs": [
    {
     "name": "stdout",
     "output_type": "stream",
     "text": [
      "int32\n"
     ]
    }
   ],
   "source": [
    "# Q1. Create a NumPy array arr of integers from 0 to 5 and print its data type.\n",
    "import numpy as np\n",
    "\n",
    "arr = np.array([0, 1, 2, 3, 4, 5])\n",
    "print(arr.dtype)\n"
   ]
  },
  {
   "cell_type": "code",
   "execution_count": null,
   "id": "bb469955-934f-47b1-8f91-8ed2fa0bcf2a",
   "metadata": {},
   "outputs": [],
   "source": []
  },
  {
   "cell_type": "code",
   "execution_count": 2,
   "id": "967210a2-946e-4f3a-948e-7decb62f86fb",
   "metadata": {},
   "outputs": [
    {
     "name": "stdout",
     "output_type": "stream",
     "text": [
      "True\n"
     ]
    }
   ],
   "source": [
    "# Q2. Given a NumPy array arr, check if its data type is float64.\n",
    "arr = np.array([1.0, 2.0, 3.0])\n",
    "print(arr.dtype == np.float64)\n"
   ]
  },
  {
   "cell_type": "code",
   "execution_count": 3,
   "id": "d3bc191c-1ce8-4892-9f5e-35f15abc8755",
   "metadata": {},
   "outputs": [
    {
     "name": "stdout",
     "output_type": "stream",
     "text": [
      "[1.+2.j 3.+4.j 5.+6.j]\n"
     ]
    }
   ],
   "source": [
    "# Q3. Create a NumPy array arr with a data type of complex128 containing three complex numbers.\n",
    "arr = np.array([1+2j, 3+4j, 5+6j], dtype=np.complex128)\n",
    "print(arr)\n"
   ]
  },
  {
   "cell_type": "code",
   "execution_count": 4,
   "id": "1afdcb4e-9a2d-477d-9e1a-fae0dce627a2",
   "metadata": {},
   "outputs": [
    {
     "name": "stdout",
     "output_type": "stream",
     "text": [
      "[1. 2. 3. 4. 5.]\n"
     ]
    }
   ],
   "source": [
    "# Q4. Convert an existing NumPy array arr of integers to float32 data type.\n",
    "arr = np.array([1, 2, 3, 4, 5])\n",
    "arr_float = arr.astype(np.float32)\n",
    "print(arr_float)\n"
   ]
  },
  {
   "cell_type": "code",
   "execution_count": 5,
   "id": "2c8fc1f4-2a63-4d30-bc64-dbae82c643e8",
   "metadata": {},
   "outputs": [
    {
     "name": "stdout",
     "output_type": "stream",
     "text": [
      "[1.1234568 2.9876542]\n"
     ]
    }
   ],
   "source": [
    "# Q5. Given a NumPy array arr with float64 data type, convert it to float32 to reduce decimal precision.\n",
    "arr = np.array([1.123456789, 2.987654321], dtype=np.float64)\n",
    "arr_low_precision = arr.astype(np.float32)\n",
    "print(arr_low_precision)\n"
   ]
  },
  {
   "cell_type": "code",
   "execution_count": 6,
   "id": "171cfd5b-d4e8-4af0-a3a4-9f5cd9767895",
   "metadata": {},
   "outputs": [
    {
     "name": "stdout",
     "output_type": "stream",
     "text": [
      "((2, 3), 6, dtype('int32'))\n"
     ]
    }
   ],
   "source": [
    "# Q6. Write a function array_attributes that takes a NumPy array as input and returns its shape, size, and data type.\n",
    "def array_attributes(arr):\n",
    "    return arr.shape, arr.size, arr.dtype\n",
    "\n",
    "arr = np.array([[1, 2, 3], [4, 5, 6]])\n",
    "print(array_attributes(arr))\n"
   ]
  },
  {
   "cell_type": "code",
   "execution_count": 7,
   "id": "0f168083-b8f3-40ee-a06c-3956e7fa9c23",
   "metadata": {},
   "outputs": [
    {
     "name": "stdout",
     "output_type": "stream",
     "text": [
      "2\n"
     ]
    }
   ],
   "source": [
    "# Q7. Create a function array_dimension that returns the dimensionality of a NumPy array.\n",
    "def array_dimension(arr):\n",
    "    return arr.ndim\n",
    "\n",
    "arr = np.array([[1, 2, 3], [4, 5, 6]])\n",
    "print(array_dimension(arr))\n"
   ]
  },
  {
   "cell_type": "code",
   "execution_count": 8,
   "id": "edfcee2a-bae1-434a-af81-2e5449750466",
   "metadata": {},
   "outputs": [
    {
     "name": "stdout",
     "output_type": "stream",
     "text": [
      "(4, 12)\n"
     ]
    }
   ],
   "source": [
    "# Q8. Design a function item_size_info that returns the item size and total size in bytes of a NumPy array.\n",
    "def item_size_info(arr):\n",
    "    return arr.itemsize, arr.nbytes\n",
    "\n",
    "arr = np.array([1, 2, 3], dtype=np.int32)\n",
    "print(item_size_info(arr))\n"
   ]
  },
  {
   "cell_type": "code",
   "execution_count": 9,
   "id": "92bcc0ff-df85-43e7-897a-7935f5152f53",
   "metadata": {},
   "outputs": [
    {
     "name": "stdout",
     "output_type": "stream",
     "text": [
      "(8, 4)\n"
     ]
    }
   ],
   "source": [
    "# Q9. Create a function array_strides that returns the strides of the given NumPy array.\n",
    "def array_strides(arr):\n",
    "    return arr.strides\n",
    "\n",
    "arr = np.array([[1, 2], [3, 4]])\n",
    "print(array_strides(arr))\n"
   ]
  },
  {
   "cell_type": "code",
   "execution_count": 10,
   "id": "1c7b3c48-aa68-48bf-8a3c-42429f63f370",
   "metadata": {},
   "outputs": [
    {
     "name": "stdout",
     "output_type": "stream",
     "text": [
      "((2, 2), (8, 4))\n"
     ]
    }
   ],
   "source": [
    "# Q10. Design a function shape_stride_relationship that returns the shape and strides of the given array.\n",
    "def shape_stride_relationship(arr):\n",
    "    return arr.shape, arr.strides\n",
    "\n",
    "arr = np.array([[1, 2], [3, 4]])\n",
    "print(shape_stride_relationship(arr))\n"
   ]
  },
  {
   "cell_type": "code",
   "execution_count": 11,
   "id": "1d7f066e-8010-4103-87d7-7e7763f6312c",
   "metadata": {},
   "outputs": [
    {
     "name": "stdout",
     "output_type": "stream",
     "text": [
      "[0. 0. 0. 0. 0.]\n"
     ]
    }
   ],
   "source": [
    "# Q11. Create a function create_zeros_array(n) to return a NumPy array of zeros with n elements.\n",
    "import numpy as np\n",
    "\n",
    "def create_zeros_array(n):\n",
    "    return np.zeros(n)\n",
    "\n",
    "print(create_zeros_array(5))\n"
   ]
  },
  {
   "cell_type": "code",
   "execution_count": 12,
   "id": "f100ba12-fbbb-440a-b20b-aec5449cec68",
   "metadata": {},
   "outputs": [
    {
     "name": "stdout",
     "output_type": "stream",
     "text": [
      "[[1. 1. 1. 1.]\n",
      " [1. 1. 1. 1.]\n",
      " [1. 1. 1. 1.]]\n"
     ]
    }
   ],
   "source": [
    "# Q12. Write a function create_ones_matrix(rows, cols) to create a 2D array filled with ones.\n",
    "def create_ones_matrix(rows, cols):\n",
    "    return np.ones((rows, cols))\n",
    "\n",
    "print(create_ones_matrix(3, 4))\n"
   ]
  },
  {
   "cell_type": "code",
   "execution_count": 13,
   "id": "014f4639-4139-46da-8d9b-8df6b385f8ce",
   "metadata": {},
   "outputs": [
    {
     "name": "stdout",
     "output_type": "stream",
     "text": [
      "[1 3 5 7 9]\n"
     ]
    }
   ],
   "source": [
    "# Q13. Write a function generate_range_array(start, stop, step) to create a ranged NumPy array.\n",
    "def generate_range_array(start, stop, step):\n",
    "    return np.arange(start, stop, step)\n",
    "\n",
    "print(generate_range_array(1, 10, 2))\n"
   ]
  },
  {
   "cell_type": "code",
   "execution_count": 14,
   "id": "e16f810f-2469-42e9-822a-5830c79b7389",
   "metadata": {},
   "outputs": [
    {
     "name": "stdout",
     "output_type": "stream",
     "text": [
      "[0.   0.25 0.5  0.75 1.  ]\n"
     ]
    }
   ],
   "source": [
    "# Q14. Design a function generate_linear_space(start, stop, num) for equally spaced values.\n",
    "def generate_linear_space(start, stop, num):\n",
    "    return np.linspace(start, stop, num)\n",
    "\n",
    "print(generate_linear_space(0, 1, 5))\n"
   ]
  },
  {
   "cell_type": "code",
   "execution_count": 15,
   "id": "d33d6491-d929-4a79-a0f7-abbd4d202859",
   "metadata": {},
   "outputs": [
    {
     "name": "stdout",
     "output_type": "stream",
     "text": [
      "[[1. 0. 0. 0.]\n",
      " [0. 1. 0. 0.]\n",
      " [0. 0. 1. 0.]\n",
      " [0. 0. 0. 1.]]\n"
     ]
    }
   ],
   "source": [
    "# Q15. Create a function create_identity_matrix(n) using numpy.eye.\n",
    "def create_identity_matrix(n):\n",
    "    return np.eye(n)\n",
    "\n",
    "print(create_identity_matrix(4))\n"
   ]
  },
  {
   "cell_type": "code",
   "execution_count": 16,
   "id": "852c3a30-633d-43b5-a252-cb8ee2d8d353",
   "metadata": {},
   "outputs": [
    {
     "name": "stdout",
     "output_type": "stream",
     "text": [
      "[1 2 3 4]\n"
     ]
    }
   ],
   "source": [
    "# Q16. Write a function that converts a Python list into a NumPy array.\n",
    "def list_to_array(lst):\n",
    "    return np.array(lst)\n",
    "\n",
    "print(list_to_array([1, 2, 3, 4]))\n"
   ]
  },
  {
   "cell_type": "code",
   "execution_count": 17,
   "id": "bfff6e9d-da9d-4617-a121-7fc0836d1559",
   "metadata": {},
   "outputs": [
    {
     "name": "stdout",
     "output_type": "stream",
     "text": [
      "[10 20 30 40]\n"
     ]
    }
   ],
   "source": [
    "# Q17. Create a NumPy array and use numpy.view() to create a new view with the same data.\n",
    "arr = np.array([10, 20, 30, 40])\n",
    "view_arr = arr.view()\n",
    "print(view_arr)\n"
   ]
  },
  {
   "cell_type": "code",
   "execution_count": 18,
   "id": "365ca9d3-d3b1-4094-84a0-03f62261fe14",
   "metadata": {},
   "outputs": [
    {
     "name": "stdout",
     "output_type": "stream",
     "text": [
      "[[1 2]\n",
      " [3 4]\n",
      " [5 6]\n",
      " [7 8]]\n"
     ]
    }
   ],
   "source": [
    "# Q18. Write a function to concatenate two NumPy arrays along a specified axis.\n",
    "def concatenate_arrays(arr1, arr2, axis):\n",
    "    return np.concatenate((arr1, arr2), axis=axis)\n",
    "\n",
    "a = np.array([[1, 2], [3, 4]])\n",
    "b = np.array([[5, 6], [7, 8]])\n",
    "print(concatenate_arrays(a, b, axis=0))\n"
   ]
  },
  {
   "cell_type": "code",
   "execution_count": 19,
   "id": "0faa1033-e0bd-4282-86ad-049c821ab4d2",
   "metadata": {},
   "outputs": [
    {
     "name": "stdout",
     "output_type": "stream",
     "text": [
      "[[1 3 4]\n",
      " [2 5 6]]\n"
     ]
    }
   ],
   "source": [
    "# Q19. Concatenate two arrays with different shapes horizontally using numpy.concatenate.\n",
    "a = np.array([[1], [2]])\n",
    "b = np.array([[3, 4], [5, 6]])\n",
    "a_broadcasted = np.concatenate((a, b), axis=1)\n",
    "print(a_broadcasted)\n"
   ]
  },
  {
   "cell_type": "code",
   "execution_count": 20,
   "id": "4f0adae1-1efd-4f07-b7a2-77fb06eb0812",
   "metadata": {},
   "outputs": [
    {
     "name": "stdout",
     "output_type": "stream",
     "text": [
      "[[1 2]\n",
      " [3 4]\n",
      " [5 6]]\n"
     ]
    }
   ],
   "source": [
    "# Q20. Vertically stack multiple arrays from a list using numpy.vstack.\n",
    "arrays = [np.array([1, 2]), np.array([3, 4]), np.array([5, 6])]\n",
    "stacked = np.vstack(arrays)\n",
    "print(stacked)"
   ]
  },
  {
   "cell_type": "code",
   "execution_count": 21,
   "id": "82c5582d-7ce4-41f2-92d0-82a4a8dac1fa",
   "metadata": {},
   "outputs": [
    {
     "name": "stdout",
     "output_type": "stream",
     "text": [
      "[1 3 5 7 9]\n"
     ]
    }
   ],
   "source": [
    "# Q21. Write a function to generate an array of integers within a specified range (inclusive) with a step.\n",
    "def generate_inclusive_range(start, stop, step):\n",
    "    return np.arange(start, stop + 1, step)\n",
    "\n",
    "print(generate_inclusive_range(1, 10, 2))\n"
   ]
  },
  {
   "cell_type": "code",
   "execution_count": 22,
   "id": "343dd893-bae5-4beb-9ed5-1d251a5fdf97",
   "metadata": {},
   "outputs": [
    {
     "name": "stdout",
     "output_type": "stream",
     "text": [
      "[0.         0.11111111 0.22222222 0.33333333 0.44444444 0.55555556\n",
      " 0.66666667 0.77777778 0.88888889 1.        ]\n"
     ]
    }
   ],
   "source": [
    "# Q22. Generate 10 equally spaced values between 0 and 1 using NumPy.\n",
    "arr = np.linspace(0, 1, 10)\n",
    "print(arr)\n"
   ]
  },
  {
   "cell_type": "code",
   "execution_count": 23,
   "id": "1ec9404f-851e-47fd-a1cd-c79aeb6b7767",
   "metadata": {},
   "outputs": [
    {
     "name": "stdout",
     "output_type": "stream",
     "text": [
      "[   1.            5.62341325   31.6227766   177.827941   1000.        ]\n"
     ]
    }
   ],
   "source": [
    "# Q23. Create 5 logarithmically spaced values between 1 and 1000.\n",
    "arr = np.logspace(0, 3, 5)\n",
    "print(arr)\n"
   ]
  },
  {
   "cell_type": "code",
   "execution_count": 24,
   "id": "5b69fc61-a0d8-4c21-8f84-6265debe05cd",
   "metadata": {},
   "outputs": [
    {
     "name": "stdout",
     "output_type": "stream",
     "text": [
      "    A   B   C\n",
      "0  33  93  31\n",
      "1  27  45  56\n",
      "2  80  17  42\n",
      "3  89  17  48\n",
      "4  50  21   7\n"
     ]
    }
   ],
   "source": [
    "# Q24. Create a Pandas DataFrame from a NumPy array with 5 rows and 3 columns of random integers (1–100).\n",
    "import pandas as pd\n",
    "\n",
    "data = np.random.randint(1, 101, size=(5, 3))\n",
    "df = pd.DataFrame(data, columns=['A', 'B', 'C'])\n",
    "print(df)\n"
   ]
  },
  {
   "cell_type": "code",
   "execution_count": 25,
   "id": "521f7906-ab90-4551-bc22-30826be70dfe",
   "metadata": {},
   "outputs": [
    {
     "name": "stdout",
     "output_type": "stream",
     "text": [
      "   A  B\n",
      "0  1  0\n",
      "1 -2  5\n",
      "2  3  0\n"
     ]
    }
   ],
   "source": [
    "# Q25. Write a function to replace all negative values in a specific column with zeros using NumPy.\n",
    "def replace_negatives_with_zero(df, column):\n",
    "    df[column] = np.where(df[column] < 0, 0, df[column])\n",
    "    return df\n",
    "\n",
    "df = pd.DataFrame({'A': [1, -2, 3], 'B': [-4, 5, -6]})\n",
    "print(replace_negatives_with_zero(df, 'B'))\n"
   ]
  },
  {
   "cell_type": "code",
   "execution_count": 26,
   "id": "0bf251a3-c635-4d0b-ad71-f50bf595b4d4",
   "metadata": {},
   "outputs": [
    {
     "name": "stdout",
     "output_type": "stream",
     "text": [
      "30\n"
     ]
    }
   ],
   "source": [
    "# Q26. Access the 3rd element from the given NumPy array.\n",
    "arr = np.array([10, 20, 30, 40, 50])\n",
    "print(arr[2])\n"
   ]
  },
  {
   "cell_type": "code",
   "execution_count": 27,
   "id": "a1130835-befa-4e5d-8e92-5ed33a3cc107",
   "metadata": {},
   "outputs": [
    {
     "name": "stdout",
     "output_type": "stream",
     "text": [
      "6\n"
     ]
    }
   ],
   "source": [
    "# Q27. Retrieve the element at index (1, 2) from a 2D array.\n",
    "arr = np.array([[1, 2, 3], [4, 5, 6]])\n",
    "print(arr[1][2])\n"
   ]
  },
  {
   "cell_type": "code",
   "execution_count": 28,
   "id": "a28dec36-118d-47b3-8e25-97cb5be2f594",
   "metadata": {},
   "outputs": [
    {
     "name": "stdout",
     "output_type": "stream",
     "text": [
      "[6 7]\n"
     ]
    }
   ],
   "source": [
    "# Q28. Extract elements greater than 5 using boolean indexing.\n",
    "arr = np.array([1, 6, 3, 7, 2])\n",
    "print(arr[arr > 5])\n"
   ]
  },
  {
   "cell_type": "code",
   "execution_count": 29,
   "id": "f3382a6e-54e8-4e3b-954e-5a2cdac03e90",
   "metadata": {},
   "outputs": [
    {
     "name": "stdout",
     "output_type": "stream",
     "text": [
      "[30 40 50 60]\n"
     ]
    }
   ],
   "source": [
    "# Q29. Slice elements from index 2 to 5 (inclusive) from a NumPy array.\n",
    "arr = np.array([10, 20, 30, 40, 50, 60, 70])\n",
    "print(arr[2:6])\n"
   ]
  },
  {
   "cell_type": "code",
   "execution_count": 30,
   "id": "7926f091-d4ac-4abc-9cfa-ee7692f75069",
   "metadata": {},
   "outputs": [
    {
     "name": "stdout",
     "output_type": "stream",
     "text": [
      "[[2 3]\n",
      " [5 6]]\n"
     ]
    }
   ],
   "source": [
    "# Q30. Slice the sub-array [[2, 3], [5, 6]] from a 2D array.\n",
    "arr = np.array([[1, 2, 3],\n",
    "                [4, 5, 6],\n",
    "                [7, 8, 9]])\n",
    "print(arr[0:2, 1:3])\n"
   ]
  },
  {
   "cell_type": "code",
   "execution_count": 31,
   "id": "26dc8868-989d-4c2c-a263-52605779775b",
   "metadata": {},
   "outputs": [
    {
     "name": "stdout",
     "output_type": "stream",
     "text": [
      "[[10 20 30]\n",
      " [40 50 60]]\n"
     ]
    }
   ],
   "source": [
    "# Q31. Extract elements based on indices from a 2D array.\n",
    "arr = np.array([[10, 20, 30], [40, 50, 60]])\n",
    "indices = [0, 1]\n",
    "print(arr[indices])\n"
   ]
  },
  {
   "cell_type": "code",
   "execution_count": 32,
   "id": "1483856f-205c-4772-a85d-15eabaa9f95d",
   "metadata": {},
   "outputs": [
    {
     "name": "stdout",
     "output_type": "stream",
     "text": [
      "[7 9]\n"
     ]
    }
   ],
   "source": [
    "# Q32. Filter elements greater than a threshold using boolean indexing.\n",
    "arr = np.array([1, 4, 7, 2, 9])\n",
    "threshold = 5\n",
    "print(arr[arr > threshold])\n"
   ]
  },
  {
   "cell_type": "code",
   "execution_count": 33,
   "id": "aa4cbc44-202b-4b39-b307-e92c873e15c9",
   "metadata": {},
   "outputs": [
    {
     "name": "stdout",
     "output_type": "stream",
     "text": [
      "[ 5 15]\n"
     ]
    }
   ],
   "source": [
    "# Q33. Extract specific elements from a 3D array using separate index arrays.\n",
    "arr = np.arange(27).reshape(3, 3, 3)\n",
    "x = [0, 1]\n",
    "y = [1, 2]\n",
    "z = [2, 0]\n",
    "print(arr[x, y, z])\n"
   ]
  },
  {
   "cell_type": "code",
   "execution_count": 34,
   "id": "ce1b52bd-9401-4eb6-87e9-b1018825a232",
   "metadata": {},
   "outputs": [
    {
     "name": "stdout",
     "output_type": "stream",
     "text": [
      "[20 25]\n"
     ]
    }
   ],
   "source": [
    "# Q34. Return elements satisfying two boolean conditions.\n",
    "arr = np.array([10, 15, 20, 25, 30])\n",
    "print(arr[(arr > 15) & (arr < 30)])\n"
   ]
  },
  {
   "cell_type": "code",
   "execution_count": 35,
   "id": "74231fea-01b1-417b-a75e-55dd1bf48ab1",
   "metadata": {},
   "outputs": [
    {
     "name": "stdout",
     "output_type": "stream",
     "text": [
      "[30 50 70]\n"
     ]
    }
   ],
   "source": [
    "# Q35. Extract elements from a 2D array using separate row and column index arrays.\n",
    "arr = np.array([[10, 20, 30],\n",
    "                [40, 50, 60],\n",
    "                [70, 80, 90]])\n",
    "row_idx = [0, 1, 2]\n",
    "col_idx = [2, 1, 0]\n",
    "print(arr[row_idx, col_idx])\n"
   ]
  },
  {
   "cell_type": "code",
   "execution_count": 36,
   "id": "ad53a032-4c53-4be0-97ba-cb0e3e4d0d87",
   "metadata": {},
   "outputs": [
    {
     "name": "stdout",
     "output_type": "stream",
     "text": [
      "[6 7 8]\n"
     ]
    }
   ],
   "source": [
    "# Q36. Add scalar 5 to every element of an array using broadcasting.\n",
    "arr = np.array([1, 2, 3])\n",
    "print(arr + 5)\n"
   ]
  },
  {
   "cell_type": "code",
   "execution_count": 37,
   "id": "0323e28d-d293-4eff-8f32-4b36859a8b5a",
   "metadata": {},
   "outputs": [
    {
     "name": "stdout",
     "output_type": "stream",
     "text": [
      "[[ 1  2  3  4]\n",
      " [10 12 14 16]\n",
      " [27 30 33 36]]\n"
     ]
    }
   ],
   "source": [
    "# Q37. Multiply each row of a (3, 4) array by corresponding elements of a (1, 3) array.\n",
    "A = np.array([[1, 2, 3, 4],\n",
    "              [5, 6, 7, 8],\n",
    "              [9, 10, 11, 12]])\n",
    "B = np.array([[1], [2], [3]])\n",
    "print(A * B)"
   ]
  },
  {
   "cell_type": "code",
   "execution_count": 38,
   "id": "0ed73122-b9cc-4758-b358-583616355483",
   "metadata": {},
   "outputs": [
    {
     "name": "stdout",
     "output_type": "stream",
     "text": [
      "[[11. 21. 31.]\n",
      " [11. 21. 31.]\n",
      " [11. 21. 31.]\n",
      " [11. 21. 31.]]\n"
     ]
    }
   ],
   "source": [
    "# Q38. Add a (1, 4) array to every row of a (4, 3) array using broadcasting.\n",
    "A = np.ones((4, 3))\n",
    "B = np.array([[10, 20, 30]])\n",
    "print(A + B)"
   ]
  },
  {
   "cell_type": "code",
   "execution_count": 39,
   "id": "d774fe75-e139-41ef-8162-b3fd38eebf44",
   "metadata": {},
   "outputs": [
    {
     "name": "stdout",
     "output_type": "stream",
     "text": [
      "[[11 21 31]\n",
      " [12 22 32]\n",
      " [13 23 33]]\n"
     ]
    }
   ],
   "source": [
    "# Q39. Add two arrays of shapes (3, 1) and (1, 3) using broadcasting.\n",
    "A = np.array([[1], [2], [3]])\n",
    "B = np.array([[10, 20, 30]])\n",
    "print(A + B)"
   ]
  },
  {
   "cell_type": "code",
   "execution_count": 40,
   "id": "0703a466-de55-4da3-960f-4b08065667ac",
   "metadata": {},
   "outputs": [
    {
     "name": "stdout",
     "output_type": "stream",
     "text": [
      "Shape mismatch error: operands could not be broadcast together with shapes (2,3) (2,2) \n"
     ]
    }
   ],
   "source": [
    "# Q40. Handle shape incompatibility during multiplication between (2, 3) and (2, 2) arrays.\n",
    "A = np.array([[1, 2, 3], [4, 5, 6]])\n",
    "B = np.array([[1, 2], [3, 4]])\n",
    "\n",
    "# Cannot multiply directly due to incompatible shapes\n",
    "try:\n",
    "    result = A * B\n",
    "except ValueError as e:\n",
    "    print(\"Shape mismatch error:\", e)"
   ]
  },
  {
   "cell_type": "code",
   "execution_count": 41,
   "id": "98a1ce47-10b9-4a73-ad23-f3c19f33d264",
   "metadata": {},
   "outputs": [
    {
     "name": "stdout",
     "output_type": "stream",
     "text": [
      "[2.5 3.5 4.5]\n"
     ]
    }
   ],
   "source": [
    "# Q41. Calculate column-wise mean of a 2D array.\n",
    "arr = np.array([[1, 2, 3], [4, 5, 6]])\n",
    "print(np.mean(arr, axis=0))\n"
   ]
  },
  {
   "cell_type": "code",
   "execution_count": 42,
   "id": "0ce08b3d-af8a-458b-aabd-f001b8dd2767",
   "metadata": {},
   "outputs": [
    {
     "name": "stdout",
     "output_type": "stream",
     "text": [
      "[5 7]\n"
     ]
    }
   ],
   "source": [
    "# Q42. Find maximum value in each row.\n",
    "arr = np.array([[1, 5, 3], [7, 2, 6]])\n",
    "print(np.max(arr, axis=1))\n"
   ]
  },
  {
   "cell_type": "code",
   "execution_count": 43,
   "id": "a3e46908-03f1-459e-a190-d1f165afe59c",
   "metadata": {},
   "outputs": [
    {
     "name": "stdout",
     "output_type": "stream",
     "text": [
      "[1 0 0]\n"
     ]
    }
   ],
   "source": [
    "# Q43. Find indices of maximum values in each column.\n",
    "arr = np.array([[1, 4, 7], [8, 2, 3]])\n",
    "print(np.argmax(arr, axis=0))"
   ]
  },
  {
   "cell_type": "code",
   "execution_count": 44,
   "id": "f5b13dd1-840d-462d-9b36-63273c464bad",
   "metadata": {},
   "outputs": [
    {
     "name": "stdout",
     "output_type": "stream",
     "text": [
      "[[ 3  5]\n",
      " [ 9 11]]\n"
     ]
    }
   ],
   "source": [
    "# Q44. Apply a custom function to compute moving sum along rows.\n",
    "def moving_sum(arr, window=2):\n",
    "    return np.array([np.convolve(row, np.ones(window, dtype=int), 'valid') for row in arr])\n",
    "\n",
    "arr = np.array([[1, 2, 3], [4, 5, 6]])\n",
    "print(moving_sum(arr))"
   ]
  },
  {
   "cell_type": "code",
   "execution_count": 45,
   "id": "4434b71d-bb35-460b-9932-4d087fa38420",
   "metadata": {},
   "outputs": [
    {
     "name": "stdout",
     "output_type": "stream",
     "text": [
      "[ True  True]\n"
     ]
    }
   ],
   "source": [
    "# Q45. Check if all elements in each column are even.\n",
    "arr = np.array([[2, 4], [6, 8]])\n",
    "print(np.all(arr % 2 == 0, axis=0))"
   ]
  },
  {
   "cell_type": "code",
   "execution_count": 46,
   "id": "e9d00ae7-8502-49b6-bd7d-887c0e7ef282",
   "metadata": {},
   "outputs": [
    {
     "name": "stdout",
     "output_type": "stream",
     "text": [
      "[[1 2 3]\n",
      " [4 5 6]]\n"
     ]
    }
   ],
   "source": [
    "# Q46. Reshape a given array into dimensions m x n.\n",
    "arr = np.array([1, 2, 3, 4, 5, 6])\n",
    "reshaped = arr.reshape(2, 3)\n",
    "print(reshaped)"
   ]
  },
  {
   "cell_type": "code",
   "execution_count": 47,
   "id": "a8dbdc2a-63c6-4105-9b7e-8f78d2da9a29",
   "metadata": {},
   "outputs": [
    {
     "name": "stdout",
     "output_type": "stream",
     "text": [
      "[1 2 3 4]\n"
     ]
    }
   ],
   "source": [
    "# Q47. Return a flattened version of a given matrix.\n",
    "arr = np.array([[1, 2], [3, 4]])\n",
    "print(arr.flatten())"
   ]
  },
  {
   "cell_type": "code",
   "execution_count": 48,
   "id": "bbd5c299-f4aa-492b-8e49-ee08afc12e98",
   "metadata": {},
   "outputs": [
    {
     "name": "stdout",
     "output_type": "stream",
     "text": [
      "[[1 2]\n",
      " [3 4]\n",
      " [5 6]\n",
      " [7 8]]\n"
     ]
    }
   ],
   "source": [
    "# Q48. Concatenate two arrays along a specified axis.\n",
    "a = np.array([[1, 2], [3, 4]])\n",
    "b = np.array([[5, 6], [7, 8]])\n",
    "print(np.concatenate((a, b), axis=0))  # Vertical"
   ]
  },
  {
   "cell_type": "code",
   "execution_count": 49,
   "id": "d186fd72-13fd-4c2b-b692-9fb7e1bb298f",
   "metadata": {},
   "outputs": [
    {
     "name": "stdout",
     "output_type": "stream",
     "text": [
      "[array([[1],\n",
      "       [4]]), array([[2],\n",
      "       [5]]), array([[3],\n",
      "       [6]])]\n"
     ]
    }
   ],
   "source": [
    "# Q49. Split an array into sub-arrays along a specified axis.\n",
    "arr = np.array([[1, 2, 3], [4, 5, 6]])\n",
    "split_arr = np.split(arr, 3, axis=1)\n",
    "print(split_arr)\n"
   ]
  },
  {
   "cell_type": "code",
   "execution_count": 50,
   "id": "6273d026-ce54-470f-9b15-20c5f61322fc",
   "metadata": {},
   "outputs": [
    {
     "name": "stdout",
     "output_type": "stream",
     "text": [
      "After insert: [10 20 25 30 40]\n",
      "After delete: [10 30 40]\n"
     ]
    }
   ],
   "source": [
    "# Q50. Insert and delete elements at specified indices from an array.\n",
    "arr = np.array([10, 20, 30, 40])\n",
    "arr_inserted = np.insert(arr, 2, 25)  # Insert 25 at index 2\n",
    "arr_deleted = np.delete(arr, 1)       # Delete element at index 1\n",
    "print(\"After insert:\", arr_inserted)\n",
    "print(\"After delete:\", arr_deleted)"
   ]
  },
  {
   "cell_type": "code",
   "execution_count": 51,
   "id": "d9c84d42-8f93-4c8e-a86c-df338065bc60",
   "metadata": {},
   "outputs": [
    {
     "name": "stdout",
     "output_type": "stream",
     "text": [
      "[5 7 9]\n"
     ]
    }
   ],
   "source": [
    "# Q51. Perform element-wise addition between two arrays.\n",
    "arr1 = np.array([1, 2, 3])\n",
    "arr2 = np.array([4, 5, 6])\n",
    "print(arr1 + arr2)"
   ]
  },
  {
   "cell_type": "code",
   "execution_count": 52,
   "id": "9968f584-8778-4c12-93e4-e66751ddddf9",
   "metadata": {},
   "outputs": [
    {
     "name": "stdout",
     "output_type": "stream",
     "text": [
      "[ 9 18 27]\n"
     ]
    }
   ],
   "source": [
    "# Q52. Perform element-wise subtraction: subtract arr2 from arr1.\n",
    "arr1 = np.array([10, 20, 30])\n",
    "arr2 = np.array([1, 2, 3])\n",
    "print(arr1 - arr2)"
   ]
  },
  {
   "cell_type": "code",
   "execution_count": 53,
   "id": "88f7887e-dc94-486a-b51a-d8bd16efac0e",
   "metadata": {},
   "outputs": [
    {
     "name": "stdout",
     "output_type": "stream",
     "text": [
      "[ 6 20 42]\n"
     ]
    }
   ],
   "source": [
    "# Q53. Perform element-wise multiplication.\n",
    "arr1 = np.array([2, 4, 6])\n",
    "arr2 = np.array([3, 5, 7])\n",
    "print(arr1 * arr2)"
   ]
  },
  {
   "cell_type": "code",
   "execution_count": 54,
   "id": "2fdeade3-9414-42b2-abed-15ccb38b7477",
   "metadata": {},
   "outputs": [
    {
     "name": "stdout",
     "output_type": "stream",
     "text": [
      "[4. 4. 4.]\n"
     ]
    }
   ],
   "source": [
    "# Q54. Divide elements of arr1 by arr2 element-wise.\n",
    "arr1 = np.array([8, 16, 32])\n",
    "arr2 = np.array([2, 4, 8])\n",
    "print(arr1 / arr2)"
   ]
  },
  {
   "cell_type": "code",
   "execution_count": 55,
   "id": "5a35d86d-e22e-4324-8bbb-d8d15214a2e2",
   "metadata": {},
   "outputs": [
    {
     "name": "stdout",
     "output_type": "stream",
     "text": [
      "[ 2  9 64]\n"
     ]
    }
   ],
   "source": [
    "# Q55. Perform element-wise exponentiation: arr1 ** arr2.\n",
    "arr1 = np.array([2, 3, 4])\n",
    "arr2 = np.array([1, 2, 3])\n",
    "print(arr1 ** arr2)"
   ]
  },
  {
   "cell_type": "code",
   "execution_count": 56,
   "id": "819d8b4e-e144-4140-8a66-28037313925e",
   "metadata": {},
   "outputs": [
    {
     "name": "stdout",
     "output_type": "stream",
     "text": [
      "[1 1 1]\n"
     ]
    }
   ],
   "source": [
    "# Q56. Count occurrences of a substring in a string array.\n",
    "str_arr = np.array(['apple pie', 'pineapple', 'grape apple'])\n",
    "count = np.char.count(str_arr, 'apple')\n",
    "print(count)"
   ]
  },
  {
   "cell_type": "code",
   "execution_count": 57,
   "id": "5ddb7231-9626-4b48-ab29-cb3cbf2d8082",
   "metadata": {},
   "outputs": [
    {
     "name": "stdout",
     "output_type": "stream",
     "text": [
      "['HW' 'PNUMPY' 'MLR']\n"
     ]
    }
   ],
   "source": [
    "# Q57. Extract uppercase characters from a string array.\n",
    "str_arr = np.array(['Hello World', 'Python NUMPY', 'ML Rocks'])\n",
    "def extract_upper(s):\n",
    "    return ''.join([c for c in s if c.isupper()])\n",
    "print(np.vectorize(extract_upper)(str_arr))"
   ]
  },
  {
   "cell_type": "code",
   "execution_count": 58,
   "id": "7806f85b-abb1-4857-818b-bb5d78d00d0c",
   "metadata": {},
   "outputs": [
    {
     "name": "stdout",
     "output_type": "stream",
     "text": [
      "['I like dogs' 'dogs are cute' 'no dogs here']\n"
     ]
    }
   ],
   "source": [
    "# Q58. Replace substring occurrences with another string in a string array.\n",
    "str_arr = np.array(['I like cats', 'cats are cute', 'no cats here'])\n",
    "print(np.char.replace(str_arr, 'cats', 'dogs'))"
   ]
  },
  {
   "cell_type": "code",
   "execution_count": 59,
   "id": "fea419f8-d13a-4031-8e36-ba3c87a5c0ef",
   "metadata": {},
   "outputs": [
    {
     "name": "stdout",
     "output_type": "stream",
     "text": [
      "['HelloWorld' 'GoodMorning']\n"
     ]
    }
   ],
   "source": [
    "# Q59. Concatenate strings in a NumPy array element-wise.\n",
    "arr1 = np.array(['Hello', 'Good'])\n",
    "arr2 = np.array(['World', 'Morning'])\n",
    "print(np.char.add(arr1, arr2))"
   ]
  },
  {
   "cell_type": "code",
   "execution_count": 60,
   "id": "272b6771-d67a-4e39-94cc-855326b40292",
   "metadata": {},
   "outputs": [
    {
     "name": "stdout",
     "output_type": "stream",
     "text": [
      "['HelloWorld' 'GoodMorning']\n"
     ]
    }
   ],
   "source": [
    "# Q59. Concatenate strings in a NumPy array element-wise.\n",
    "arr1 = np.array(['Hello', 'Good'])\n",
    "arr2 = np.array(['World', 'Morning'])\n",
    "print(np.char.add(arr1, arr2))"
   ]
  },
  {
   "cell_type": "code",
   "execution_count": 61,
   "id": "5676fb3e-43cd-4c93-b5fb-114b60bca19b",
   "metadata": {},
   "outputs": [
    {
     "name": "stdout",
     "output_type": "stream",
     "text": [
      "Mean: 453.05\n",
      "Median: 380.5\n",
      "Variance: 105148.7875\n",
      "Standard Deviation: 324.26653774325837\n"
     ]
    }
   ],
   "source": [
    "# Q61. Generate 100 random integers (1–1000) and compute mean, median, variance, and std deviation.\n",
    "arr = np.random.randint(1, 1001, size=100)\n",
    "print(\"Mean:\", np.mean(arr))\n",
    "print(\"Median:\", np.median(arr))\n",
    "print(\"Variance:\", np.var(arr))\n",
    "print(\"Standard Deviation:\", np.std(arr))"
   ]
  },
  {
   "cell_type": "code",
   "execution_count": 62,
   "id": "354da4e7-0e41-45bf-b837-ac1162a3e7d2",
   "metadata": {},
   "outputs": [
    {
     "name": "stdout",
     "output_type": "stream",
     "text": [
      "25th percentile: 34.75\n",
      "75th percentile: 60.75\n"
     ]
    }
   ],
   "source": [
    "# Q62. Generate 50 random numbers (1–100) and compute the 25th and 75th percentiles.\n",
    "arr = np.random.randint(1, 101, size=50)\n",
    "print(\"25th percentile:\", np.percentile(arr, 25))\n",
    "print(\"75th percentile:\", np.percentile(arr, 75))"
   ]
  },
  {
   "cell_type": "code",
   "execution_count": 63,
   "id": "909e6f0f-1bf4-46c8-9679-356aa1da8598",
   "metadata": {},
   "outputs": [
    {
     "name": "stdout",
     "output_type": "stream",
     "text": [
      "[[ 1. -1.]\n",
      " [-1.  1.]]\n"
     ]
    }
   ],
   "source": [
    "# Q63. Compute correlation coefficient between two arrays using np.corrcoef.\n",
    "arr1 = np.array([1, 2, 3, 4, 5])\n",
    "arr2 = np.array([5, 4, 3, 2, 1])\n",
    "print(np.corrcoef(arr1, arr2))"
   ]
  },
  {
   "cell_type": "code",
   "execution_count": 64,
   "id": "af93d32c-960a-4f7b-9230-6deeb2f3b1e0",
   "metadata": {},
   "outputs": [
    {
     "name": "stdout",
     "output_type": "stream",
     "text": [
      "[[19 22]\n",
      " [43 50]]\n"
     ]
    }
   ],
   "source": [
    "# Q64. Perform matrix multiplication using np.dot.\n",
    "a = np.array([[1, 2], [3, 4]])\n",
    "b = np.array([[5, 6], [7, 8]])\n",
    "print(np.dot(a, b))"
   ]
  },
  {
   "cell_type": "code",
   "execution_count": 65,
   "id": "1d821bd5-f3af-4669-885c-4ad0b37568ad",
   "metadata": {},
   "outputs": [
    {
     "name": "stdout",
     "output_type": "stream",
     "text": [
      "10th percentile: 8.600000000000001\n",
      "50th percentile (median): 40.0\n",
      "90th percentile: 88.1\n",
      "1st quartile (Q1): 22.0\n",
      "3rd quartile (Q3): 65.75\n"
     ]
    }
   ],
   "source": [
    "# Q65. Compute the 10th, 50th, and 90th percentiles and quartiles for an array of 50 integers.\n",
    "arr = np.random.randint(1, 101, size=50)\n",
    "print(\"10th percentile:\", np.percentile(arr, 10))\n",
    "print(\"50th percentile (median):\", np.percentile(arr, 50))\n",
    "print(\"90th percentile:\", np.percentile(arr, 90))\n",
    "print(\"1st quartile (Q1):\", np.percentile(arr, 25))\n",
    "print(\"3rd quartile (Q3):\", np.percentile(arr, 75))"
   ]
  },
  {
   "cell_type": "code",
   "execution_count": 66,
   "id": "cc116e8f-d89d-4913-8834-c12b0dd496c7",
   "metadata": {},
   "outputs": [
    {
     "name": "stdout",
     "output_type": "stream",
     "text": [
      "2\n"
     ]
    }
   ],
   "source": [
    "# Q66. Find index of a specific element in an array.\n",
    "arr = np.array([10, 20, 30, 40, 50])\n",
    "index = np.where(arr == 30)\n",
    "print(index[0][0])"
   ]
  },
  {
   "cell_type": "code",
   "execution_count": 67,
   "id": "d027375c-407e-4f31-8d92-311b6a2adf93",
   "metadata": {},
   "outputs": [
    {
     "name": "stdout",
     "output_type": "stream",
     "text": [
      "[ 9 24 24 25 32 41 46 52 74 95]\n"
     ]
    }
   ],
   "source": [
    "# Q67. Sort a random array in ascending order.\n",
    "arr = np.random.randint(1, 100, size=10)\n",
    "sorted_arr = np.sort(arr)\n",
    "print(sorted_arr)"
   ]
  },
  {
   "cell_type": "code",
   "execution_count": 68,
   "id": "ecc41293-b74d-485f-893f-7f56cc4b2931",
   "metadata": {},
   "outputs": [
    {
     "name": "stdout",
     "output_type": "stream",
     "text": [
      "[25 35]\n"
     ]
    }
   ],
   "source": [
    "# Q68. Filter elements greater than 20.\n",
    "arr = np.array([5, 25, 15, 35, 10])\n",
    "print(arr[arr > 20])"
   ]
  },
  {
   "cell_type": "code",
   "execution_count": 69,
   "id": "480108bb-079f-4bd4-9a8b-f9d286788443",
   "metadata": {},
   "outputs": [
    {
     "name": "stdout",
     "output_type": "stream",
     "text": [
      "[ 3  6 12 15]\n"
     ]
    }
   ],
   "source": [
    "# Q69. Filter elements divisible by 3.\n",
    "arr = np.array([3, 6, 10, 12, 15, 17])\n",
    "print(arr[arr % 3 == 0])"
   ]
  },
  {
   "cell_type": "code",
   "execution_count": 70,
   "id": "19c8dd35-f9ec-4953-acf9-417129aebae0",
   "metadata": {},
   "outputs": [
    {
     "name": "stdout",
     "output_type": "stream",
     "text": [
      "[20 25 30 40]\n"
     ]
    }
   ],
   "source": [
    "# Q70. Filter elements between 20 and 40 (inclusive).\n",
    "arr = np.array([10, 20, 25, 30, 40, 50])\n",
    "print(arr[(arr >= 20) & (arr <= 40)])"
   ]
  },
  {
   "cell_type": "code",
   "execution_count": 71,
   "id": "8bc9a925-ba24-4d9d-8af5-d698437c2d11",
   "metadata": {},
   "outputs": [
    {
     "name": "stdout",
     "output_type": "stream",
     "text": [
      "=\n"
     ]
    }
   ],
   "source": [
    "# Q71. Check byte order of a NumPy array using dtype.byteorder.\n",
    "arr = np.array([1, 2, 3])\n",
    "print(arr.dtype.byteorder)"
   ]
  },
  {
   "cell_type": "code",
   "execution_count": 72,
   "id": "40b72861-f73a-4894-8930-d7a480fd43b9",
   "metadata": {},
   "outputs": [
    {
     "name": "stdout",
     "output_type": "stream",
     "text": [
      "[16777216    65536      256]\n"
     ]
    }
   ],
   "source": [
    "# Q72. Perform in-place byte swapping using byteswap().\n",
    "arr = np.array([1, 256, 65536], dtype=np.int32)\n",
    "arr.byteswap(inplace=True)\n",
    "print(arr)"
   ]
  },
  {
   "cell_type": "code",
   "execution_count": null,
   "id": "97e793d5-dc2e-4eda-b599-8f4f3ddfa30a",
   "metadata": {},
   "outputs": [],
   "source": []
  }
 ],
 "metadata": {
  "kernelspec": {
   "display_name": "Python [conda env:base] *",
   "language": "python",
   "name": "conda-base-py"
  },
  "language_info": {
   "codemirror_mode": {
    "name": "ipython",
    "version": 3
   },
   "file_extension": ".py",
   "mimetype": "text/x-python",
   "name": "python",
   "nbconvert_exporter": "python",
   "pygments_lexer": "ipython3",
   "version": "3.12.7"
  }
 },
 "nbformat": 4,
 "nbformat_minor": 5
}
